{
  "nbformat": 4,
  "nbformat_minor": 0,
  "metadata": {
    "colab": {
      "provenance": []
    },
    "kernelspec": {
      "name": "python3",
      "display_name": "Python 3"
    },
    "language_info": {
      "name": "python"
    }
  },
  "cells": [
    {
      "cell_type": "code",
      "execution_count": 5,
      "metadata": {
        "id": "WwCO_bYurY16"
      },
      "outputs": [],
      "source": [
        "import pandas as pd\n",
        "import seaborn as sns\n",
        "import matplotlib.pyplot as plt\n",
        "from sklearn.model_selection import train_test_split\n",
        "from sklearn.preprocessing import LabelEncoder, StandardScaler\n",
        "from sklearn.ensemble import RandomForestClassifier\n",
        "from sklearn.metrics import confusion_matrix, classification_report, accuracy_score, precision_score, recall_score\n",
        "\n"
      ]
    },
    {
      "cell_type": "code",
      "source": [
        "# Load dataset\n",
        "df = pd.read_csv(\"/content/club_participation.csv\")"
      ],
      "metadata": {
        "id": "y7t9bqWQudlh"
      },
      "execution_count": 7,
      "outputs": []
    },
    {
      "cell_type": "code",
      "source": [
        "# Show all column names\n",
        "print(\"Dataset columns:\\n\", df.columns)\n"
      ],
      "metadata": {
        "colab": {
          "base_uri": "https://localhost:8080/"
        },
        "id": "pNzm_EdDuk1m",
        "outputId": "60530889-49c0-4cd9-a3c6-66f6a4f344e6"
      },
      "execution_count": 8,
      "outputs": [
        {
          "output_type": "stream",
          "name": "stdout",
          "text": [
            "Dataset columns:\n",
            " Index(['interest_level', 'free_hours_per_week', 'club_participation'], dtype='object')\n"
          ]
        }
      ]
    },
    {
      "cell_type": "code",
      "source": [
        "# Try to automatically find target column (you can also hardcode this)\n",
        "target_col = None\n",
        "for col in df.columns:\n",
        "    if any(word in col.lower() for word in ['join', 'participation', 'club']) and df[col].nunique() <= 2:\n",
        "        target_col = col\n",
        "        break\n",
        "\n",
        "if not target_col:\n",
        "    raise Exception(\"Could not automatically detect the target column. Please set 'target_col' manually.\")\n",
        "\n",
        "print(f\"\\nUsing target column: {target_col}\")\n"
      ],
      "metadata": {
        "colab": {
          "base_uri": "https://localhost:8080/"
        },
        "id": "fs3OsaiCupAq",
        "outputId": "47da9cf7-8920-4d0b-bd9d-63944055bf40"
      },
      "execution_count": 9,
      "outputs": [
        {
          "output_type": "stream",
          "name": "stdout",
          "text": [
            "\n",
            "Using target column: club_participation\n"
          ]
        }
      ]
    },
    {
      "cell_type": "code",
      "source": [
        "# Encode categorical variables\n",
        "le = LabelEncoder()\n",
        "for column in df.select_dtypes(include=['object']).columns:\n",
        "    if column != target_col:\n",
        "        df[column] = le.fit_transform(df[column])\n",
        "\n"
      ],
      "metadata": {
        "id": "_sSLbjFJut8I"
      },
      "execution_count": 10,
      "outputs": []
    },
    {
      "cell_type": "code",
      "source": [
        "# Separate features and target\n",
        "X = df.drop(target_col, axis=1)\n",
        "y = df[target_col]"
      ],
      "metadata": {
        "id": "_iT2JjX4uyNM"
      },
      "execution_count": 11,
      "outputs": []
    },
    {
      "cell_type": "code",
      "source": [
        "\n",
        "# Encode target if it's categorical\n",
        "if y.dtype == 'object':\n",
        "    y = le.fit_transform(y)"
      ],
      "metadata": {
        "id": "LqdBO3OWu3n0"
      },
      "execution_count": 12,
      "outputs": []
    },
    {
      "cell_type": "code",
      "source": [
        "# Scale features\n",
        "scaler = StandardScaler()\n",
        "X_scaled = scaler.fit_transform(X)\n",
        "\n"
      ],
      "metadata": {
        "id": "tzRsaanbu77C"
      },
      "execution_count": 15,
      "outputs": []
    },
    {
      "cell_type": "code",
      "source": [
        "# Train-test split\n",
        "X_train, X_test, y_train, y_test = train_test_split(X_scaled, y, test_size=0.2, random_state=42)\n",
        "\n",
        "# Check the shapes of X_train, X_test, y_train, and y_test\n",
        "print(\"Shapes of X_train, X_test, y_train, y_test:\")\n",
        "print(f\"X_train: {X_train.shape}, X_test: {X_test.shape}\")\n",
        "print(f\"y_train: {y_train.shape}, y_test: {y_test.shape}\")"
      ],
      "metadata": {
        "colab": {
          "base_uri": "https://localhost:8080/"
        },
        "id": "mTKB5vx11Q11",
        "outputId": "14681cb8-39ab-4a9f-854e-11a59e265507"
      },
      "execution_count": 24,
      "outputs": [
        {
          "output_type": "stream",
          "name": "stdout",
          "text": [
            "Shapes of X_train, X_test, y_train, y_test:\n",
            "X_train: (80, 2), X_test: (20, 2)\n",
            "y_train: (80,), y_test: (20,)\n"
          ]
        }
      ]
    },
    {
      "cell_type": "code",
      "source": [
        "# Train a RandomForest classifier\n",
        "model = RandomForestClassifier(random_state=42)\n",
        "model.fit(X_train, y_train)\n",
        "\n",
        "# Predict on test set\n",
        "y_pred = model.predict(X_test)"
      ],
      "metadata": {
        "id": "Py-zNjZkvCqO"
      },
      "execution_count": 16,
      "outputs": []
    },
    {
      "cell_type": "code",
      "source": [
        "# Evaluation\n",
        "print(\"\\nClassification Report:\")\n",
        "print(classification_report(y_test, y_pred))\n",
        "print(\"Accuracy:\", accuracy_score(y_test, y_pred))\n",
        "print(\"Precision:\", precision_score(y_test, y_pred))\n",
        "print(\"Recall:\", recall_score(y_test, y_pred))\n"
      ],
      "metadata": {
        "colab": {
          "base_uri": "https://localhost:8080/"
        },
        "id": "1mHQZdixvLIe",
        "outputId": "4d2fb15e-9edc-4885-d792-027b88e5eb70"
      },
      "execution_count": 17,
      "outputs": [
        {
          "output_type": "stream",
          "name": "stdout",
          "text": [
            "\n",
            "Classification Report:\n",
            "              precision    recall  f1-score   support\n",
            "\n",
            "           0       0.42      0.56      0.48         9\n",
            "           1       0.50      0.36      0.42        11\n",
            "\n",
            "    accuracy                           0.45        20\n",
            "   macro avg       0.46      0.46      0.45        20\n",
            "weighted avg       0.46      0.45      0.45        20\n",
            "\n",
            "Accuracy: 0.45\n",
            "Precision: 0.5\n",
            "Recall: 0.36363636363636365\n"
          ]
        }
      ]
    },
    {
      "cell_type": "code",
      "source": [
        "# Confusion matrix heatmap\n",
        "cm = confusion_matrix(y_test, y_pred)\n",
        "sns.heatmap(cm, annot=True, fmt='d', cmap='Blues',\n",
        "            xticklabels=['Not Join', 'Join'],\n",
        "            yticklabels=['Not Join', 'Join'])\n",
        "plt.title(\"Confusion Matrix\")\n",
        "plt.xlabel(\"Predicted\")\n",
        "plt.ylabel(\"Actual\")\n",
        "plt.show()"
      ],
      "metadata": {
        "colab": {
          "base_uri": "https://localhost:8080/",
          "height": 472
        },
        "id": "gikMhAQfvQri",
        "outputId": "e638a26f-c816-4ef8-df57-0017bfef80c3"
      },
      "execution_count": 19,
      "outputs": [
        {
          "output_type": "display_data",
          "data": {
            "text/plain": [
              "<Figure size 640x480 with 2 Axes>"
            ],
            "image/png": "[encoded data removed]"
          },
          "metadata": {}
        }
      ]
    },
    {
      "cell_type": "markdown",
      "source": [],
      "metadata": {
        "id": "OTK3SQzu5cSR"
      }
    }
  ]
}